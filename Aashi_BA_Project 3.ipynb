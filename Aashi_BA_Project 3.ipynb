{
 "cells": [
  {
   "cell_type": "code",
   "execution_count": 6,
   "id": "56d42bb9-3eb9-4696-8763-d934e6107aec",
   "metadata": {},
   "outputs": [],
   "source": [
    "import pandas as pd\n",
    "import numpy as np\n",
    "import matplotlib.pyplot as plt\n",
    "import seaborn as sns"
   ]
  },
  {
   "cell_type": "code",
   "execution_count": 7,
   "id": "55662e7c-e81a-4379-8696-080e252fe763",
   "metadata": {},
   "outputs": [],
   "source": [
    "df =pd.read_pickle('shared/Project-3_NYC_311_Calls.pkl')"
   ]
  },
  {
   "cell_type": "code",
   "execution_count": 8,
   "id": "9bb111dd-4797-42f3-ad93-06e2fc49de98",
   "metadata": {},
   "outputs": [],
   "source": [
    "df = df.set_index(pd.DatetimeIndex(df['Created Date']))\n",
    "\n",
    "del df['Created Date']"
   ]
  },
  {
   "cell_type": "code",
   "execution_count": 9,
   "id": "e111745e-4853-4028-b4ee-d6c8f0dd9e52",
   "metadata": {},
   "outputs": [
    {
     "data": {
      "text/html": [
       "<div>\n",
       "<style scoped>\n",
       "    .dataframe tbody tr th:only-of-type {\n",
       "        vertical-align: middle;\n",
       "    }\n",
       "\n",
       "    .dataframe tbody tr th {\n",
       "        vertical-align: top;\n",
       "    }\n",
       "\n",
       "    .dataframe thead th {\n",
       "        text-align: right;\n",
       "    }\n",
       "</style>\n",
       "<table border=\"1\" class=\"dataframe\">\n",
       "  <thead>\n",
       "    <tr style=\"text-align: right;\">\n",
       "      <th></th>\n",
       "      <th>Unique Key</th>\n",
       "      <th>Agency</th>\n",
       "      <th>Agency Name</th>\n",
       "      <th>Complaint Type</th>\n",
       "      <th>Descriptor</th>\n",
       "      <th>Location Type</th>\n",
       "      <th>Incident Zip</th>\n",
       "      <th>City</th>\n",
       "      <th>Resolution Description</th>\n",
       "      <th>Borough</th>\n",
       "      <th>Open Data Channel Type</th>\n",
       "    </tr>\n",
       "    <tr>\n",
       "      <th>Created Date</th>\n",
       "      <th></th>\n",
       "      <th></th>\n",
       "      <th></th>\n",
       "      <th></th>\n",
       "      <th></th>\n",
       "      <th></th>\n",
       "      <th></th>\n",
       "      <th></th>\n",
       "      <th></th>\n",
       "      <th></th>\n",
       "      <th></th>\n",
       "    </tr>\n",
       "  </thead>\n",
       "  <tbody>\n",
       "    <tr>\n",
       "      <th>2011-04-06 00:00:00</th>\n",
       "      <td>20184537</td>\n",
       "      <td>HPD</td>\n",
       "      <td>Department of Housing Preservation and Develop...</td>\n",
       "      <td>HEATING</td>\n",
       "      <td>HEAT</td>\n",
       "      <td>RESIDENTIAL BUILDING</td>\n",
       "      <td>10002.0</td>\n",
       "      <td>NEW YORK</td>\n",
       "      <td>More than one complaint was received for this ...</td>\n",
       "      <td>MANHATTAN</td>\n",
       "      <td>UNKNOWN</td>\n",
       "    </tr>\n",
       "    <tr>\n",
       "      <th>2011-04-06 00:00:00</th>\n",
       "      <td>20184538</td>\n",
       "      <td>HPD</td>\n",
       "      <td>Department of Housing Preservation and Develop...</td>\n",
       "      <td>GENERAL CONSTRUCTION</td>\n",
       "      <td>WINDOWS</td>\n",
       "      <td>RESIDENTIAL BUILDING</td>\n",
       "      <td>11236.0</td>\n",
       "      <td>BROOKLYN</td>\n",
       "      <td>The Department of Housing Preservation and Dev...</td>\n",
       "      <td>BROOKLYN</td>\n",
       "      <td>UNKNOWN</td>\n",
       "    </tr>\n",
       "    <tr>\n",
       "      <th>2011-04-06 00:00:00</th>\n",
       "      <td>20184539</td>\n",
       "      <td>HPD</td>\n",
       "      <td>Department of Housing Preservation and Develop...</td>\n",
       "      <td>PAINT - PLASTER</td>\n",
       "      <td>WALLS</td>\n",
       "      <td>RESIDENTIAL BUILDING</td>\n",
       "      <td>10460.0</td>\n",
       "      <td>BRONX</td>\n",
       "      <td>The Department of Housing Preservation and Dev...</td>\n",
       "      <td>BRONX</td>\n",
       "      <td>UNKNOWN</td>\n",
       "    </tr>\n",
       "    <tr>\n",
       "      <th>2022-07-08 11:14:43</th>\n",
       "      <td>54732265</td>\n",
       "      <td>DSNY</td>\n",
       "      <td>Department of Sanitation</td>\n",
       "      <td>Dirty Condition</td>\n",
       "      <td>Trash</td>\n",
       "      <td>Sidewalk</td>\n",
       "      <td>10467.0</td>\n",
       "      <td>BRONX</td>\n",
       "      <td>The Department of Sanitation investigated this...</td>\n",
       "      <td>BRONX</td>\n",
       "      <td>PHONE</td>\n",
       "    </tr>\n",
       "    <tr>\n",
       "      <th>2011-04-06 00:00:00</th>\n",
       "      <td>20184540</td>\n",
       "      <td>HPD</td>\n",
       "      <td>Department of Housing Preservation and Develop...</td>\n",
       "      <td>NONCONST</td>\n",
       "      <td>VERMIN</td>\n",
       "      <td>RESIDENTIAL BUILDING</td>\n",
       "      <td>10460.0</td>\n",
       "      <td>BRONX</td>\n",
       "      <td>The Department of Housing Preservation and Dev...</td>\n",
       "      <td>BRONX</td>\n",
       "      <td>UNKNOWN</td>\n",
       "    </tr>\n",
       "    <tr>\n",
       "      <th>...</th>\n",
       "      <td>...</td>\n",
       "      <td>...</td>\n",
       "      <td>...</td>\n",
       "      <td>...</td>\n",
       "      <td>...</td>\n",
       "      <td>...</td>\n",
       "      <td>...</td>\n",
       "      <td>...</td>\n",
       "      <td>...</td>\n",
       "      <td>...</td>\n",
       "      <td>...</td>\n",
       "    </tr>\n",
       "    <tr>\n",
       "      <th>2011-04-06 00:00:00</th>\n",
       "      <td>20184532</td>\n",
       "      <td>HPD</td>\n",
       "      <td>Department of Housing Preservation and Develop...</td>\n",
       "      <td>HEATING</td>\n",
       "      <td>HEAT</td>\n",
       "      <td>RESIDENTIAL BUILDING</td>\n",
       "      <td>10468</td>\n",
       "      <td>BRONX</td>\n",
       "      <td>The Department of Housing Preservation and Dev...</td>\n",
       "      <td>BRONX</td>\n",
       "      <td>UNKNOWN</td>\n",
       "    </tr>\n",
       "    <tr>\n",
       "      <th>2011-04-06 00:00:00</th>\n",
       "      <td>20184533</td>\n",
       "      <td>HPD</td>\n",
       "      <td>Department of Housing Preservation and Develop...</td>\n",
       "      <td>HEATING</td>\n",
       "      <td>HEAT</td>\n",
       "      <td>RESIDENTIAL BUILDING</td>\n",
       "      <td>10018</td>\n",
       "      <td>NEW YORK</td>\n",
       "      <td>More than one complaint was received for this ...</td>\n",
       "      <td>MANHATTAN</td>\n",
       "      <td>UNKNOWN</td>\n",
       "    </tr>\n",
       "    <tr>\n",
       "      <th>2011-04-06 00:00:00</th>\n",
       "      <td>20184534</td>\n",
       "      <td>HPD</td>\n",
       "      <td>Department of Housing Preservation and Develop...</td>\n",
       "      <td>GENERAL CONSTRUCTION</td>\n",
       "      <td>STAIRS</td>\n",
       "      <td>RESIDENTIAL BUILDING</td>\n",
       "      <td>10460</td>\n",
       "      <td>BRONX</td>\n",
       "      <td>The Department of Housing Preservation and Dev...</td>\n",
       "      <td>BRONX</td>\n",
       "      <td>UNKNOWN</td>\n",
       "    </tr>\n",
       "    <tr>\n",
       "      <th>2011-04-06 00:00:00</th>\n",
       "      <td>20184535</td>\n",
       "      <td>HPD</td>\n",
       "      <td>Department of Housing Preservation and Develop...</td>\n",
       "      <td>GENERAL CONSTRUCTION</td>\n",
       "      <td>GAS</td>\n",
       "      <td>RESIDENTIAL BUILDING</td>\n",
       "      <td>11236</td>\n",
       "      <td>BROOKLYN</td>\n",
       "      <td>The Department of Housing Preservation and Dev...</td>\n",
       "      <td>BROOKLYN</td>\n",
       "      <td>UNKNOWN</td>\n",
       "    </tr>\n",
       "    <tr>\n",
       "      <th>2011-04-06 00:00:00</th>\n",
       "      <td>20184536</td>\n",
       "      <td>HPD</td>\n",
       "      <td>Department of Housing Preservation and Develop...</td>\n",
       "      <td>PLUMBING</td>\n",
       "      <td>WATER-LEAKS</td>\n",
       "      <td>RESIDENTIAL BUILDING</td>\n",
       "      <td>11236</td>\n",
       "      <td>BROOKLYN</td>\n",
       "      <td>The Department of Housing Preservation and Dev...</td>\n",
       "      <td>BROOKLYN</td>\n",
       "      <td>UNKNOWN</td>\n",
       "    </tr>\n",
       "  </tbody>\n",
       "</table>\n",
       "<p>33780977 rows × 11 columns</p>\n",
       "</div>"
      ],
      "text/plain": [
       "                     Unique Key Agency  \\\n",
       "Created Date                             \n",
       "2011-04-06 00:00:00    20184537    HPD   \n",
       "2011-04-06 00:00:00    20184538    HPD   \n",
       "2011-04-06 00:00:00    20184539    HPD   \n",
       "2022-07-08 11:14:43    54732265   DSNY   \n",
       "2011-04-06 00:00:00    20184540    HPD   \n",
       "...                         ...    ...   \n",
       "2011-04-06 00:00:00    20184532    HPD   \n",
       "2011-04-06 00:00:00    20184533    HPD   \n",
       "2011-04-06 00:00:00    20184534    HPD   \n",
       "2011-04-06 00:00:00    20184535    HPD   \n",
       "2011-04-06 00:00:00    20184536    HPD   \n",
       "\n",
       "                                                           Agency Name  \\\n",
       "Created Date                                                             \n",
       "2011-04-06 00:00:00  Department of Housing Preservation and Develop...   \n",
       "2011-04-06 00:00:00  Department of Housing Preservation and Develop...   \n",
       "2011-04-06 00:00:00  Department of Housing Preservation and Develop...   \n",
       "2022-07-08 11:14:43                           Department of Sanitation   \n",
       "2011-04-06 00:00:00  Department of Housing Preservation and Develop...   \n",
       "...                                                                ...   \n",
       "2011-04-06 00:00:00  Department of Housing Preservation and Develop...   \n",
       "2011-04-06 00:00:00  Department of Housing Preservation and Develop...   \n",
       "2011-04-06 00:00:00  Department of Housing Preservation and Develop...   \n",
       "2011-04-06 00:00:00  Department of Housing Preservation and Develop...   \n",
       "2011-04-06 00:00:00  Department of Housing Preservation and Develop...   \n",
       "\n",
       "                           Complaint Type   Descriptor         Location Type  \\\n",
       "Created Date                                                                   \n",
       "2011-04-06 00:00:00               HEATING         HEAT  RESIDENTIAL BUILDING   \n",
       "2011-04-06 00:00:00  GENERAL CONSTRUCTION      WINDOWS  RESIDENTIAL BUILDING   \n",
       "2011-04-06 00:00:00       PAINT - PLASTER        WALLS  RESIDENTIAL BUILDING   \n",
       "2022-07-08 11:14:43       Dirty Condition        Trash              Sidewalk   \n",
       "2011-04-06 00:00:00              NONCONST       VERMIN  RESIDENTIAL BUILDING   \n",
       "...                                   ...          ...                   ...   \n",
       "2011-04-06 00:00:00               HEATING         HEAT  RESIDENTIAL BUILDING   \n",
       "2011-04-06 00:00:00               HEATING         HEAT  RESIDENTIAL BUILDING   \n",
       "2011-04-06 00:00:00  GENERAL CONSTRUCTION       STAIRS  RESIDENTIAL BUILDING   \n",
       "2011-04-06 00:00:00  GENERAL CONSTRUCTION          GAS  RESIDENTIAL BUILDING   \n",
       "2011-04-06 00:00:00              PLUMBING  WATER-LEAKS  RESIDENTIAL BUILDING   \n",
       "\n",
       "                    Incident Zip      City  \\\n",
       "Created Date                                 \n",
       "2011-04-06 00:00:00      10002.0  NEW YORK   \n",
       "2011-04-06 00:00:00      11236.0  BROOKLYN   \n",
       "2011-04-06 00:00:00      10460.0     BRONX   \n",
       "2022-07-08 11:14:43      10467.0     BRONX   \n",
       "2011-04-06 00:00:00      10460.0     BRONX   \n",
       "...                          ...       ...   \n",
       "2011-04-06 00:00:00        10468     BRONX   \n",
       "2011-04-06 00:00:00        10018  NEW YORK   \n",
       "2011-04-06 00:00:00        10460     BRONX   \n",
       "2011-04-06 00:00:00        11236  BROOKLYN   \n",
       "2011-04-06 00:00:00        11236  BROOKLYN   \n",
       "\n",
       "                                                Resolution Description  \\\n",
       "Created Date                                                             \n",
       "2011-04-06 00:00:00  More than one complaint was received for this ...   \n",
       "2011-04-06 00:00:00  The Department of Housing Preservation and Dev...   \n",
       "2011-04-06 00:00:00  The Department of Housing Preservation and Dev...   \n",
       "2022-07-08 11:14:43  The Department of Sanitation investigated this...   \n",
       "2011-04-06 00:00:00  The Department of Housing Preservation and Dev...   \n",
       "...                                                                ...   \n",
       "2011-04-06 00:00:00  The Department of Housing Preservation and Dev...   \n",
       "2011-04-06 00:00:00  More than one complaint was received for this ...   \n",
       "2011-04-06 00:00:00  The Department of Housing Preservation and Dev...   \n",
       "2011-04-06 00:00:00  The Department of Housing Preservation and Dev...   \n",
       "2011-04-06 00:00:00  The Department of Housing Preservation and Dev...   \n",
       "\n",
       "                       Borough Open Data Channel Type  \n",
       "Created Date                                           \n",
       "2011-04-06 00:00:00  MANHATTAN                UNKNOWN  \n",
       "2011-04-06 00:00:00   BROOKLYN                UNKNOWN  \n",
       "2011-04-06 00:00:00      BRONX                UNKNOWN  \n",
       "2022-07-08 11:14:43      BRONX                  PHONE  \n",
       "2011-04-06 00:00:00      BRONX                UNKNOWN  \n",
       "...                        ...                    ...  \n",
       "2011-04-06 00:00:00      BRONX                UNKNOWN  \n",
       "2011-04-06 00:00:00  MANHATTAN                UNKNOWN  \n",
       "2011-04-06 00:00:00      BRONX                UNKNOWN  \n",
       "2011-04-06 00:00:00   BROOKLYN                UNKNOWN  \n",
       "2011-04-06 00:00:00   BROOKLYN                UNKNOWN  \n",
       "\n",
       "[33780977 rows x 11 columns]"
      ]
     },
     "execution_count": 9,
     "metadata": {},
     "output_type": "execute_result"
    }
   ],
   "source": [
    "df"
   ]
  },
  {
   "cell_type": "code",
   "execution_count": 10,
   "id": "e055c964-69d8-4f01-ac22-2d79d7651716",
   "metadata": {},
   "outputs": [
    {
     "data": {
      "text/plain": [
       "Unique Key                33780977\n",
       "Agency                          36\n",
       "Agency Name                   1888\n",
       "Complaint Type                 485\n",
       "Descriptor                    1933\n",
       "Location Type                  230\n",
       "Incident Zip                  3711\n",
       "City                          2749\n",
       "Resolution Description        1978\n",
       "Borough                          6\n",
       "Open Data Channel Type           5\n",
       "dtype: int64"
      ]
     },
     "execution_count": 10,
     "metadata": {},
     "output_type": "execute_result"
    }
   ],
   "source": [
    "distinct_values_count = df.nunique()\n",
    "\n",
    "distinct_values_count"
   ]
  },
  {
   "cell_type": "code",
   "execution_count": 11,
   "id": "7901f33b-13e5-4749-bf55-2bb9ae6593bc",
   "metadata": {},
   "outputs": [
    {
     "data": {
      "image/png": "[encoded data removed]",
      "text/plain": [
       "<Figure size 1000x600 with 1 Axes>"
      ]
     },
     "metadata": {},
     "output_type": "display_data"
    }
   ],
   "source": [
    "borough_counts = df['Borough'].value_counts()\n",
    "\n",
    "# Plotting a bar graph\n",
    "plt.figure(figsize=(10, 6))\n",
    "borough_counts.plot(kind='bar', color='pink')\n",
    "plt.title('Frequency of Calls by Borough')\n",
    "plt.xlabel('Borough')\n",
    "plt.ylabel('Number of Calls')\n",
    "plt.xticks(rotation=45, ha='right')  # Rotate x-axis labels for better visibility\n",
    "plt.show()"
   ]
  },
  {
   "cell_type": "code",
   "execution_count": 12,
   "id": "2ee5e957-536c-42eb-8cc9-f53f3ee9cfc2",
   "metadata": {},
   "outputs": [
    {
     "name": "stdout",
     "output_type": "stream",
     "text": [
      "Average number of daily complaints received in 2022: 8684.320547945206\n"
     ]
    }
   ],
   "source": [
    "# Filter data for the year 2022\n",
    "df_2022 = df[df.index.year == 2022]\n",
    "\n",
    "# Resample data to daily frequency and count the number of complaints for each day\n",
    "daily_complaints_2022 = df_2022['Unique Key'].resample('D').count()\n",
    "\n",
    "# Calculate the average number of daily complaints in 2022\n",
    "average_daily_complaints_2022 = daily_complaints_2022.mean()\n",
    "\n",
    "# Print the result\n",
    "print(\"Average number of daily complaints received in 2022:\", average_daily_complaints_2022)"
   ]
  },
  {
   "cell_type": "code",
   "execution_count": 13,
   "id": "eb8a9b0b-0db2-448a-9f29-d7d7ec23c88a",
   "metadata": {},
   "outputs": [
    {
     "name": "stdout",
     "output_type": "stream",
     "text": [
      "On 2020-08-04 the maximum number of calls ( 24415 ) were received.\n"
     ]
    }
   ],
   "source": [
    "# Count the number of complaints for each date\n",
    "daily_complaints = df['Unique Key'].resample('D').count()\n",
    "\n",
    "# Find the date with the maximum number of calls\n",
    "date_with_max_calls = daily_complaints.idxmax()\n",
    "\n",
    "# Find the maximum number of calls\n",
    "max_calls = daily_complaints.max()\n",
    "\n",
    "# Print the result\n",
    "print(\"On\", date_with_max_calls.strftime('%Y-%m-%d'), \"the maximum number of calls (\", max_calls, \") were received.\")"
   ]
  },
  {
   "cell_type": "code",
   "execution_count": 14,
   "id": "52fdb20c-061a-4be4-95cf-c4582e0fc8fd",
   "metadata": {},
   "outputs": [
    {
     "name": "stdout",
     "output_type": "stream",
     "text": [
      "On 2020-08-04 the most important complaint type was: Damaged Tree\n"
     ]
    }
   ],
   "source": [
    "# Filter the DataFrame for the date with the maximum number of calls\n",
    "max_calls_date_df = df[df.index.date == date_with_max_calls.date()]\n",
    "\n",
    "# Find the most important complaint type on that date\n",
    "most_important_complaint_type = max_calls_date_df['Complaint Type'].value_counts().idxmax()\n",
    "\n",
    "# Print the result\n",
    "print(\"On\", date_with_max_calls.strftime('%Y-%m-%d'), \"the most important complaint type was:\", most_important_complaint_type)"
   ]
  },
  {
   "cell_type": "code",
   "execution_count": 17,
   "id": "d97dc9f8-ea53-4a46-8be3-c9c40faf3028",
   "metadata": {},
   "outputs": [],
   "source": [
    "monthly_complaints = df['Unique Key'].resample('ME').count()\n"
   ]
  },
  {
   "cell_type": "code",
   "execution_count": 18,
   "id": "3bbb490e-d8c4-4dc7-8fc5-76c446a1b83c",
   "metadata": {},
   "outputs": [],
   "source": [
    "monthly_complaints_by_month = monthly_complaints.groupby(monthly_complaints.index.month).sum()"
   ]
  },
  {
   "cell_type": "code",
   "execution_count": 19,
   "id": "33608af0-499f-4948-a73d-6d13d9ee24cf",
   "metadata": {},
   "outputs": [],
   "source": [
    "quietest_month = monthly_complaints_by_month.idxmin()"
   ]
  },
  {
   "cell_type": "code",
   "execution_count": 20,
   "id": "d2f514cb-8255-46f9-9317-23e3db2184de",
   "metadata": {},
   "outputs": [
    {
     "data": {
      "text/plain": [
       "12"
      ]
     },
     "execution_count": 20,
     "metadata": {},
     "output_type": "execute_result"
    }
   ],
   "source": [
    "quietest_month"
   ]
  },
  {
   "cell_type": "code",
   "execution_count": 22,
   "id": "a7262609-7eb1-42b3-8d4d-bd9aae57c7b9",
   "metadata": {},
   "outputs": [],
   "source": [
    "import statsmodels.api as sm"
   ]
  },
  {
   "cell_type": "code",
   "execution_count": 24,
   "id": "bbd7d092-85f8-4d3f-8639-bee4f510c412",
   "metadata": {},
   "outputs": [
    {
     "name": "stdout",
     "output_type": "stream",
     "text": [
      "The value of the seasonal component on 2020-12-25 (rounded to the nearest integer) is: 183\n"
     ]
    }
   ],
   "source": [
    "# Resample data to daily frequency\n",
    "daily_complaints = df['Unique Key'].resample('D').count()\n",
    "\n",
    "# Perform ETS decomposition\n",
    "result = sm.tsa.seasonal_decompose(daily_complaints, model='additive')\n",
    "\n",
    "# Extract the seasonal component\n",
    "seasonal_component = result.seasonal\n",
    "\n",
    "# Find the value of the seasonal component on 2020-12-25\n",
    "value_on_2020_12_25 = round(seasonal_component['2020-12-25'])\n",
    "\n",
    "# Print the result\n",
    "print(\"The value of the seasonal component on 2020-12-25 (rounded to the nearest integer) is:\", value_on_2020_12_25)"
   ]
  },
  {
   "cell_type": "code",
   "execution_count": 25,
   "id": "94172bbe-0832-49ea-9154-cf8393756ff6",
   "metadata": {},
   "outputs": [
    {
     "name": "stdout",
     "output_type": "stream",
     "text": [
      "The autocorrelation of the number of daily calls with the number of calls the day prior is: 0.7517059728398577\n"
     ]
    }
   ],
   "source": [
    "# Resample data to daily frequency\n",
    "daily_complaints = df['Unique Key'].resample('D').count()\n",
    "\n",
    "# Calculate the autocorrelation with a lag of 1\n",
    "autocorrelation_lag_1 = daily_complaints.autocorr(lag=1)\n",
    "\n",
    "# Print the result\n",
    "print(\"The autocorrelation of the number of daily calls with the number of calls the day prior is:\", autocorrelation_lag_1)"
   ]
  },
  {
   "cell_type": "code",
   "execution_count": 33,
   "id": "d162b252-1745-40ce-bd96-f9fa35258aab",
   "metadata": {},
   "outputs": [
    {
     "name": "stderr",
     "output_type": "stream",
     "text": [
      "17:45:39 - cmdstanpy - INFO - Chain [1] start processing\n",
      "17:45:41 - cmdstanpy - INFO - Chain [1] done processing\n"
     ]
    },
    {
     "name": "stdout",
     "output_type": "stream",
     "text": [
      "RMSE on the test set: 1233.7823321393885\n"
     ]
    }
   ],
   "source": [
    "# Resample data to daily frequency\n",
    "daily_complaints = df['Unique Key'].resample('D').count().reset_index()\n",
    "\n",
    "# Rename columns as required by Prophet\n",
    "daily_complaints.columns = ['ds', 'y']\n",
    "\n",
    "# Split the data into training and test sets\n",
    "train_data = daily_complaints[:-90]\n",
    "test_data = daily_complaints[-90:]\n",
    "\n",
    "# Initialize and fit the Prophet model\n",
    "model = Prophet()\n",
    "model.fit(train_data)\n",
    "\n",
    "# Create a DataFrame with the dates for the test set\n",
    "future = model.make_future_dataframe(periods=90)\n",
    "\n",
    "# Generate forecasts for the test set\n",
    "forecast = model.predict(future)\n",
    "\n",
    "# Extract the predicted values for the test set\n",
    "y_pred = forecast[-90:]['yhat']\n",
    "\n",
    "# Extract the actual values for the test set\n",
    "y_true = test_data['y']\n",
    "\n",
    "# Calculate RMSE\n",
    "rmse = sqrt(mean_squared_error(y_true, y_pred))\n",
    "\n",
    "# Print the result\n",
    "print(\"RMSE on the test set:\", rmse)"
   ]
  },
  {
   "cell_type": "code",
   "execution_count": 28,
   "id": "d937abab-91e3-4126-a500-8159fcb9a731",
   "metadata": {},
   "outputs": [
    {
     "name": "stderr",
     "output_type": "stream",
     "text": [
      "/opt/conda/envs/mggy8413/lib/python3.11/site-packages/tqdm/auto.py:21: TqdmWarning: IProgress not found. Please update jupyter and ipywidgets. See https://ipywidgets.readthedocs.io/en/stable/user_install.html\n",
      "  from .autonotebook import tqdm as notebook_tqdm\n"
     ]
    }
   ],
   "source": [
    "from prophet import Prophet"
   ]
  },
  {
   "cell_type": "code",
   "execution_count": 30,
   "id": "dbb71323-1e9e-4cf8-adc2-e227a01e75c3",
   "metadata": {},
   "outputs": [],
   "source": [
    "from math import sqrt"
   ]
  },
  {
   "cell_type": "code",
   "execution_count": 32,
   "id": "04ee3ac4-9655-4b1d-9754-db80e5f0af78",
   "metadata": {},
   "outputs": [],
   "source": [
    "from sklearn.metrics import mean_squared_error"
   ]
  },
  {
   "cell_type": "code",
   "execution_count": null,
   "id": "21fe3184-9f45-4325-8d01-f606e83143dc",
   "metadata": {},
   "outputs": [],
   "source": []
  }
 ],
 "metadata": {
  "kernelspec": {
   "display_name": "Python [conda env:mggy8413]",
   "language": "python",
   "name": "conda-env-mggy8413-py"
  },
  "language_info": {
   "codemirror_mode": {
    "name": "ipython",
    "version": 3
   },
   "file_extension": ".py",
   "mimetype": "text/x-python",
   "name": "python",
   "nbconvert_exporter": "python",
   "pygments_lexer": "ipython3",
   "version": "3.11.8"
  }
 },
 "nbformat": 4,
 "nbformat_minor": 5
}
